{
 "cells": [
  {
   "cell_type": "markdown",
   "metadata": {},
   "source": [
    "# Portfolio Optimization Using Python\n",
    "\n",
    "This notebook addresses portfolio optimization, a strategy extensively applied by financial and investment advisors to ensure that their clients are maintaining the right balance of risk to realize their financial objectives.\n",
    "\n",
    "The dataset for this project is simple and includes historical closing price information for a small stock portfolio, which was fetched from Investing.com.\n",
    "\n",
    "The collected data is cleaned up to calculate the key metrics necessary to produce an optimal portfolio outcome. These are expected returns, expected volatility, and the Sharpe ratio. Once we have all these metrics calculated, we will create a `Monte Carlo simulation` that yields random outcomes, which will allow us to determine the best portfolio setup in relation to varied scenarios.\n",
    "\n",
    "A plot of the result is then made using `matplotlib` to determine which portfolio is the best-performing investment strategy."
   ]
  },
  {
   "cell_type": "code",
   "execution_count": 1,
   "metadata": {},
   "outputs": [],
   "source": [
    "# Importing the libraries\n",
    "\n",
    "import numpy as np\n",
    "import pandas as pd\n",
    "import matplotlib.pyplot as plt"
   ]
  },
  {
   "cell_type": "code",
   "execution_count": 2,
   "metadata": {},
   "outputs": [
    {
     "data": {
      "text/html": [
       "<div>\n",
       "<style scoped>\n",
       "    .dataframe tbody tr th:only-of-type {\n",
       "        vertical-align: middle;\n",
       "    }\n",
       "\n",
       "    .dataframe tbody tr th {\n",
       "        vertical-align: top;\n",
       "    }\n",
       "\n",
       "    .dataframe thead th {\n",
       "        text-align: right;\n",
       "    }\n",
       "</style>\n",
       "<table border=\"1\" class=\"dataframe\">\n",
       "  <thead>\n",
       "    <tr style=\"text-align: right;\">\n",
       "      <th></th>\n",
       "      <th>date</th>\n",
       "      <th>price</th>\n",
       "      <th>open</th>\n",
       "      <th>high</th>\n",
       "      <th>low</th>\n",
       "      <th>volume</th>\n",
       "      <th>symbol</th>\n",
       "    </tr>\n",
       "  </thead>\n",
       "  <tbody>\n",
       "    <tr>\n",
       "      <th>0</th>\n",
       "      <td>2024-09-27</td>\n",
       "      <td>187.97</td>\n",
       "      <td>190.68</td>\n",
       "      <td>190.90</td>\n",
       "      <td>187.34</td>\n",
       "      <td>36.00M</td>\n",
       "      <td>AMZN</td>\n",
       "    </tr>\n",
       "    <tr>\n",
       "      <th>1</th>\n",
       "      <td>2024-09-26</td>\n",
       "      <td>191.16</td>\n",
       "      <td>194.31</td>\n",
       "      <td>194.53</td>\n",
       "      <td>189.54</td>\n",
       "      <td>36.33M</td>\n",
       "      <td>AMZN</td>\n",
       "    </tr>\n",
       "    <tr>\n",
       "      <th>2</th>\n",
       "      <td>2024-09-25</td>\n",
       "      <td>192.53</td>\n",
       "      <td>193.75</td>\n",
       "      <td>193.95</td>\n",
       "      <td>192.16</td>\n",
       "      <td>26.39M</td>\n",
       "      <td>AMZN</td>\n",
       "    </tr>\n",
       "    <tr>\n",
       "      <th>3</th>\n",
       "      <td>2024-09-24</td>\n",
       "      <td>193.96</td>\n",
       "      <td>194.27</td>\n",
       "      <td>195.37</td>\n",
       "      <td>190.13</td>\n",
       "      <td>43.48M</td>\n",
       "      <td>AMZN</td>\n",
       "    </tr>\n",
       "    <tr>\n",
       "      <th>4</th>\n",
       "      <td>2024-09-23</td>\n",
       "      <td>193.88</td>\n",
       "      <td>191.64</td>\n",
       "      <td>194.45</td>\n",
       "      <td>190.57</td>\n",
       "      <td>36.99M</td>\n",
       "      <td>AMZN</td>\n",
       "    </tr>\n",
       "  </tbody>\n",
       "</table>\n",
       "</div>"
      ],
      "text/plain": [
       "        date   price    open    high     low  volume symbol\n",
       "0 2024-09-27  187.97  190.68  190.90  187.34  36.00M   AMZN\n",
       "1 2024-09-26  191.16  194.31  194.53  189.54  36.33M   AMZN\n",
       "2 2024-09-25  192.53  193.75  193.95  192.16  26.39M   AMZN\n",
       "3 2024-09-24  193.96  194.27  195.37  190.13  43.48M   AMZN\n",
       "4 2024-09-23  193.88  191.64  194.45  190.57  36.99M   AMZN"
      ]
     },
     "metadata": {},
     "output_type": "display_data"
    }
   ],
   "source": [
    "# Symbols of the stocks in the portfolio\n",
    "SYMBOLS = ['AAPL' , 'AMZN' , 'MSFT']\n",
    "NUM_OF_SYMBOLS = len(SYMBOLS)\n",
    "\n",
    "# Load the data\n",
    "price_data_frame: pd.DataFrame = pd.read_csv(\"../data/data.csv\")\n",
    "price_data_frame['date'] = pd.to_datetime(price_data_frame['date'], format='%d-%m-%Y')\n",
    "display(price_data_frame.head())"
   ]
  },
  {
   "cell_type": "markdown",
   "metadata": {},
   "source": [
    "We can make use of the `pivot` method to reshape the data into separate columns for each symbol, each column of which contains the corresponding closing prices. Data structured like this will be easy for us to compute the daily returns of each stock."
   ]
  },
  {
   "cell_type": "code",
   "execution_count": 3,
   "metadata": {
    "tags": []
   },
   "outputs": [
    {
     "name": "stdout",
     "output_type": "stream",
     "text": [
      "symbol        AAPL    AMZN    MSFT\n",
      "date                              \n",
      "2024-05-29  190.29  182.02  429.17\n",
      "2024-05-30  191.29  179.32  414.67\n",
      "2024-05-31  192.25  176.44  415.13\n",
      "2024-06-03  194.03  178.34  413.52\n",
      "2024-06-04  194.35  179.34  416.07\n"
     ]
    }
   ],
   "source": [
    "# We need to pivot the data so that our index is the date, the columns are the symbols, and the values are the close prices.\n",
    "price_data_frame = price_data_frame[['date', 'symbol', 'price']]\n",
    "\n",
    "# Pivot the data\n",
    "price_data_frame = price_data_frame.pivot_table(\n",
    "    index='date',\n",
    "    columns='symbol',\n",
    "    values='price'\n",
    ")\n",
    "print(price_data_frame.head())"
   ]
  },
  {
   "cell_type": "markdown",
   "metadata": {},
   "source": [
    "Notice here that we are getting returns off a portfolio of stocks, but in order to get those returns, we must necessarily take on risk—it just ideally happens in an acceptable form because we're actually getting returns that grow our investment.\n",
    "\n",
    "Most investors, though, are not comfortable having high levels of risk. Our goal, therefore, is to find the best balance between risk and return. Ideally, we would like to have the highest level of risk we are comfortable with, while at the same time maximizing returns. This naturally leads to the question, \"How do we measure risk?\".\n",
    "\n",
    "There are many ways to do this, and the appropriate method will often depend on the specific situation. In our case, we will make use of a particularly widely popular metric: the `Sharpe Ratio`. There is an industry standard for measuring risk-adjusted returns in that the Sharpe Ratio helps quantify the relationship between average return above the risk-free rate and the amount of volatility or total risk involved in earning that return.\n",
    "\n",
    "Mathematically, we define the Sharpe Ratio as the following:\n",
    "\n",
    "\\begin{equation*}\n",
    "\\text{Sharpe Ratio} = \\frac{(R_p - R_f)}{\\sigma_p}\n",
    "\\end{equation*}\n",
    "\n",
    "Where:\n",
    "\n",
    "$\n",
    "\\begin{align}\n",
    "\\ R_p & = \\text{Return of Portfolio} \\\\\n",
    "\\ R_f & = \\text{Risk-Free Rate} \\\\\n",
    "\\ \\sigma_p & = \\text{Standard Deviation of Portfolio's Excess Return} \\\\\n",
    "\\end{align}\n",
    "$\n",
    "\n",
    "To calculate the expected returns, we use the following formula:\n",
    "\n",
    "\\begin{equation*}\n",
    "\\ R_p = (w_{1}r_{1}) + (w_{2}r_{2}) + \\cdots + (w_{n}r_{n})\n",
    "\\end{equation*}\n",
    "\n",
    "Where:\n",
    "\n",
    "$\n",
    "\\begin{align}\n",
    "\\ r_{i} & = \\text{Return of Security i} \\\\\n",
    "\\ w_{i} & = \\text{Weight of Security i} \\\\\n",
    "\\end{align}\n",
    "$\n",
    "\n",
    "To calculate the standard deviation of the protfolio, we use the following formula:\n",
    "\n",
    "\\begin{equation*}\n",
    "\\ \\sigma_p = \\sqrt{(w_{i}^2 \\sigma_i^2) + (w_{j}^2 \\sigma_j^2) + (2w_{j}w_{i} p_{i,j} \\sigma_i \\sigma_j)}\n",
    "\\end{equation*}\n",
    "\n",
    "Where:\n",
    "\n",
    "$\n",
    "\\begin{align}\n",
    "\\ \\sigma_{i} & = \\text{Standard Deviation of Returns for Security i} \\\\\n",
    "\\ w_{i} & = \\text{Weight of Security i} \\\\\n",
    "\\ p_{i,j} & = \\text{Correlation Coefficent between the returns of asset i and asset j} \\\\\n",
    "\\end{align}\n",
    "$"
   ]
  },
  {
   "cell_type": "code",
   "execution_count": 4,
   "metadata": {
    "tags": []
   },
   "outputs": [
    {
     "name": "stdout",
     "output_type": "stream",
     "text": [
      "Portfolio Weights:\n"
     ]
    },
    {
     "data": {
      "text/html": [
       "<div>\n",
       "<style scoped>\n",
       "    .dataframe tbody tr th:only-of-type {\n",
       "        vertical-align: middle;\n",
       "    }\n",
       "\n",
       "    .dataframe tbody tr th {\n",
       "        vertical-align: top;\n",
       "    }\n",
       "\n",
       "    .dataframe thead th {\n",
       "        text-align: right;\n",
       "    }\n",
       "</style>\n",
       "<table border=\"1\" class=\"dataframe\">\n",
       "  <thead>\n",
       "    <tr style=\"text-align: right;\">\n",
       "      <th></th>\n",
       "      <th>random_weights</th>\n",
       "      <th>rebalance_weights</th>\n",
       "    </tr>\n",
       "  </thead>\n",
       "  <tbody>\n",
       "    <tr>\n",
       "      <th>0</th>\n",
       "      <td>0.069037</td>\n",
       "      <td>0.058386</td>\n",
       "    </tr>\n",
       "    <tr>\n",
       "      <th>1</th>\n",
       "      <td>0.606179</td>\n",
       "      <td>0.512654</td>\n",
       "    </tr>\n",
       "    <tr>\n",
       "      <th>2</th>\n",
       "      <td>0.507218</td>\n",
       "      <td>0.428961</td>\n",
       "    </tr>\n",
       "  </tbody>\n",
       "</table>\n",
       "</div>"
      ],
      "text/plain": [
       "   random_weights  rebalance_weights\n",
       "0        0.069037           0.058386\n",
       "1        0.606179           0.512654\n",
       "2        0.507218           0.428961"
      ]
     },
     "metadata": {},
     "output_type": "display_data"
    },
    {
     "name": "stdout",
     "output_type": "stream",
     "text": [
      "Portfolio Metrics:\n"
     ]
    },
    {
     "data": {
      "text/html": [
       "<div>\n",
       "<style scoped>\n",
       "    .dataframe tbody tr th:only-of-type {\n",
       "        vertical-align: middle;\n",
       "    }\n",
       "\n",
       "    .dataframe tbody tr th {\n",
       "        vertical-align: top;\n",
       "    }\n",
       "\n",
       "    .dataframe thead th {\n",
       "        text-align: right;\n",
       "    }\n",
       "</style>\n",
       "<table border=\"1\" class=\"dataframe\">\n",
       "  <thead>\n",
       "    <tr style=\"text-align: right;\">\n",
       "      <th></th>\n",
       "      <th>Expected Portfolio Returns</th>\n",
       "      <th>Expected Portfolio Volatility</th>\n",
       "      <th>Portfolio Sharpe Ratio</th>\n",
       "    </tr>\n",
       "  </thead>\n",
       "  <tbody>\n",
       "    <tr>\n",
       "      <th>0</th>\n",
       "      <td>0.077523</td>\n",
       "      <td>0.230541</td>\n",
       "      <td>0.336266</td>\n",
       "    </tr>\n",
       "  </tbody>\n",
       "</table>\n",
       "</div>"
      ],
      "text/plain": [
       "   Expected Portfolio Returns  Expected Portfolio Volatility  \\\n",
       "0                    0.077523                       0.230541   \n",
       "\n",
       "   Portfolio Sharpe Ratio  \n",
       "0                0.336266  "
      ]
     },
     "metadata": {},
     "output_type": "display_data"
    }
   ],
   "source": [
    "# Calculate the log returns\n",
    "log_return = np.log(1 + price_data_frame.pct_change())\n",
    "\n",
    "# Calculate the mean log returns\n",
    "random_weights = np.array(np.random.random(NUM_OF_SYMBOLS))\n",
    "\n",
    "# Normalize the random weights so that their sum equals 1.\n",
    "rebalance_weights = random_weights / np.sum(random_weights)\n",
    "\n",
    "# Compute the annualized expected portfolio returns by multiplying by 252.\n",
    "exp_ret = np.sum((log_return.mean() * rebalance_weights) * 252)\n",
    "\n",
    "# Compute the annualized expected portfolio volatility by multiplying by 252.\n",
    "exp_vol = np.sqrt(\n",
    "np.dot(\n",
    "    rebalance_weights.T,\n",
    "    np.dot(\n",
    "        log_return.cov() * 252,\n",
    "        rebalance_weights\n",
    "    )\n",
    ")\n",
    ")\n",
    "\n",
    "# Calculate the Sharpe Ratio.\n",
    "sharpe_ratio = exp_ret / exp_vol\n",
    "\n",
    "# Display the results in a DataFrame.\n",
    "weights_df = pd.DataFrame(data={\n",
    "'random_weights': random_weights,\n",
    "'rebalance_weights': rebalance_weights\n",
    "})\n",
    "\n",
    "# Display the weights DataFrame\n",
    "print('Portfolio Weights:')\n",
    "display(weights_df)\n",
    "\n",
    "# Create a DataFrame to display the portfolio metrics\n",
    "metrics_df = pd.DataFrame(data={\n",
    "    'Expected Portfolio Returns': exp_ret,\n",
    "    'Expected Portfolio Volatility': exp_vol,\n",
    "    'Portfolio Sharpe Ratio': sharpe_ratio\n",
    "}, index=[0])\n",
    "\n",
    "# Display the metrics DataFrame\n",
    "print('Portfolio Metrics:')\n",
    "display(metrics_df)"
   ]
  },
  {
   "cell_type": "markdown",
   "metadata": {},
   "source": [
    "# Portfolio Optimization: Monte Carlo\n",
    "\n",
    "Having a way to measure how well our portfolio is allocated, we now need to calculate expected returns, expected volatility, and, using the Sharpe Ratio, analyze the risk-adjusted performance of the portfolio. The major question now is, \"If we want to achieve a higher Sharpe Ratio, then what portfolio allocation do we need?\"\n",
    "\n",
    "There are two approaches to do this. The first one is to just test several random portfolio allocations and see which one has the highest Sharpe Ratio. The second one is mathematical optimization, where we try to find an optimal allocation that follows certain constraints. In the following section, we shall discuss the former approach: testing random allocations,which is popularly known as a Monte Carlo Simulation.\n",
    "\n",
    "**Monte Carlo simulations model the probability of different outcomes in a process that might be influenced by random variables. It is the means of analyzing the impact of risk and uncertainty within a model of prediction and forecasting.**\n",
    "\n",
    "We run the simulation a few thousand times, storing the result of each run in a data frame. Once the simulations are done, we identify the portfolio allocations with the highest Sharpe Ratio and the lowest volatility."
   ]
  },
  {
   "cell_type": "code",
   "execution_count": 5,
   "metadata": {
    "tags": []
   },
   "outputs": [
    {
     "name": "stdout",
     "output_type": "stream",
     "text": [
      "SIMULATIONS RESULT:\n"
     ]
    },
    {
     "data": {
      "text/html": [
       "<div>\n",
       "<style scoped>\n",
       "    .dataframe tbody tr th:only-of-type {\n",
       "        vertical-align: middle;\n",
       "    }\n",
       "\n",
       "    .dataframe tbody tr th {\n",
       "        vertical-align: top;\n",
       "    }\n",
       "\n",
       "    .dataframe thead th {\n",
       "        text-align: right;\n",
       "    }\n",
       "</style>\n",
       "<table border=\"1\" class=\"dataframe\">\n",
       "  <thead>\n",
       "    <tr style=\"text-align: right;\">\n",
       "      <th></th>\n",
       "      <th>Returns</th>\n",
       "      <th>Volatility</th>\n",
       "      <th>Sharpe Ratio</th>\n",
       "      <th>Portfolio Weights</th>\n",
       "    </tr>\n",
       "  </thead>\n",
       "  <tbody>\n",
       "    <tr>\n",
       "      <th>0</th>\n",
       "      <td>0.246026</td>\n",
       "      <td>0.210564</td>\n",
       "      <td>1.168413</td>\n",
       "      <td>[0.3985728587806986, 0.3423062754695161, 0.259...</td>\n",
       "    </tr>\n",
       "    <tr>\n",
       "      <th>1</th>\n",
       "      <td>0.264969</td>\n",
       "      <td>0.199395</td>\n",
       "      <td>1.328864</td>\n",
       "      <td>[0.47334234792568664, 0.13181692514933482, 0.3...</td>\n",
       "    </tr>\n",
       "    <tr>\n",
       "      <th>2</th>\n",
       "      <td>0.236167</td>\n",
       "      <td>0.198119</td>\n",
       "      <td>1.192043</td>\n",
       "      <td>[0.4139159058651249, 0.1676304237264133, 0.418...</td>\n",
       "    </tr>\n",
       "    <tr>\n",
       "      <th>3</th>\n",
       "      <td>0.106094</td>\n",
       "      <td>0.229336</td>\n",
       "      <td>0.462613</td>\n",
       "      <td>[0.10971236027881946, 0.5170590678704529, 0.37...</td>\n",
       "    </tr>\n",
       "    <tr>\n",
       "      <th>4</th>\n",
       "      <td>0.065308</td>\n",
       "      <td>0.200044</td>\n",
       "      <td>0.326467</td>\n",
       "      <td>[0.0952805977511704, 0.20253522820007253, 0.70...</td>\n",
       "    </tr>\n",
       "  </tbody>\n",
       "</table>\n",
       "</div>"
      ],
      "text/plain": [
       "    Returns  Volatility  Sharpe Ratio  \\\n",
       "0  0.246026    0.210564      1.168413   \n",
       "1  0.264969    0.199395      1.328864   \n",
       "2  0.236167    0.198119      1.192043   \n",
       "3  0.106094    0.229336      0.462613   \n",
       "4  0.065308    0.200044      0.326467   \n",
       "\n",
       "                                   Portfolio Weights  \n",
       "0  [0.3985728587806986, 0.3423062754695161, 0.259...  \n",
       "1  [0.47334234792568664, 0.13181692514933482, 0.3...  \n",
       "2  [0.4139159058651249, 0.1676304237264133, 0.418...  \n",
       "3  [0.10971236027881946, 0.5170590678704529, 0.37...  \n",
       "4  [0.0952805977511704, 0.20253522820007253, 0.70...  "
      ]
     },
     "metadata": {},
     "output_type": "display_data"
    }
   ],
   "source": [
    "# Initialize the components for running a Monte Carlo Simulation.\n",
    "\n",
    "# We will run 5000 iterations.\n",
    "NUM_OF_ITERATIONS = 5000\n",
    "\n",
    "# Create an array to store the weights of the stocks for all the 5000 iterations and all stocks in the portfolio.\n",
    "all_weights = np.zeros((NUM_OF_ITERATIONS, NUM_OF_SYMBOLS))\n",
    "\n",
    "# Prepare an array to store the returns as they are generated, 5000 possible return values.\n",
    "ret_arr = np.zeros(NUM_OF_ITERATIONS)\n",
    "\n",
    "# Prepare an array to store the volatility as they are generated, 5000 possible volatility values.\n",
    "vol_arr = np.zeros(NUM_OF_ITERATIONS)\n",
    "\n",
    "# Prepare an array to store the sharpe ratios as they are generated, 5000 possible Sharpe Ratios.\n",
    "sharpe_arr = np.zeros(NUM_OF_ITERATIONS)\n",
    "\n",
    "# Start the Monte Carlo Simulation.\n",
    "for ind in range(NUM_OF_ITERATIONS):\n",
    "\n",
    "    # weight calculation\n",
    "    weights = np.array(np.random.random(NUM_OF_SYMBOLS))\n",
    "    weights = weights / np.sum(weights)\n",
    "\n",
    "    # Save the weights in the `all_weights` array.\n",
    "    all_weights[ind, :] = weights\n",
    "\n",
    "    # Calculate the expected log returns, and add them to the `returns_array`.\n",
    "    ret_arr[ind] = np.sum((log_return.mean() * weights) * 252)\n",
    "\n",
    "    # Calculate the volatility, and add them to the `volatility_array`.\n",
    "    vol_arr[ind] = np.sqrt(\n",
    "        np.dot(weights.T, np.dot(log_return.cov() * 252, weights))\n",
    "    )\n",
    "\n",
    "    # Calculate the Sharpe Ratio and Add it to the `sharpe_ratio_array`.\n",
    "    sharpe_arr[ind] = ret_arr[ind]/vol_arr[ind]\n",
    "\n",
    "# Display the results of the Monte Carlo Simulation.\n",
    "simulations_data = [ret_arr, vol_arr, sharpe_arr, all_weights]\n",
    "\n",
    "# Create a DataFrame to display the results of the Monte Carlo Simulation.\n",
    "simulations_df = pd.DataFrame(data=simulations_data).T\n",
    "\n",
    "# Give the columns the Proper Names.\n",
    "simulations_df.columns = [\n",
    "    'Returns',\n",
    "    'Volatility',\n",
    "    'Sharpe Ratio',\n",
    "    'Portfolio Weights'\n",
    "]\n",
    "\n",
    "# Make sure the data types are correct.\n",
    "simulations_df = simulations_df.infer_objects()\n",
    "\n",
    "# Print out the results.\n",
    "print('SIMULATIONS RESULT:')\n",
    "display(simulations_df.head())"
   ]
  },
  {
   "cell_type": "markdown",
   "metadata": {},
   "source": [
    "# Grab the Important Metrics\n",
    "Now that we've run our simulation, let's get a closer look at some key metrics.\n",
    "\n",
    "There's max_sharpe_ratio, which is the Sharpe Ratio where the excess return of the portfolio is highest relative to the risk being taken.That's another way of saying these portfolios are really \"best\" because they produce the highest possible risk-adjusted returns. \n",
    "\n",
    "The second metric is the one called min_volatility. It shows the portfolio weights resulting in the lowest overall volatility. In other words, if it wants to bear the minimum amount of risk, these are the weights it should target."
   ]
  },
  {
   "cell_type": "code",
   "execution_count": 6,
   "metadata": {
    "tags": []
   },
   "outputs": [
    {
     "name": "stdout",
     "output_type": "stream",
     "text": [
      "Max Sharpe Ratio:\n"
     ]
    },
    {
     "data": {
      "text/plain": [
       "Returns                                                       0.511901\n",
       "Volatility                                                    0.246479\n",
       "Sharpe Ratio                                                  2.076856\n",
       "Portfolio Weights    [0.9441134039691105, 0.02758173661533885, 0.02...\n",
       "Name: 1536, dtype: object"
      ]
     },
     "metadata": {},
     "output_type": "display_data"
    },
    {
     "name": "stdout",
     "output_type": "stream",
     "text": [
      "Min Volatility:\n"
     ]
    },
    {
     "data": {
      "text/plain": [
       "Returns                                                       0.143321\n",
       "Volatility                                                    0.190615\n",
       "Sharpe Ratio                                                  0.751888\n",
       "Portfolio Weights    [0.27565908124242045, 0.0038155546214753942, 0...\n",
       "Name: 1672, dtype: object"
      ]
     },
     "metadata": {},
     "output_type": "display_data"
    }
   ],
   "source": [
    "# Max Sharpe Ratio from the run.\n",
    "max_sharpe_ratio = simulations_df.loc[simulations_df['Sharpe Ratio'].idxmax()]\n",
    "\n",
    "# Min Volatility from the run.\n",
    "min_volatility = simulations_df.loc[simulations_df['Volatility'].idxmin()]\n",
    "\n",
    "# Display the results.\n",
    "\n",
    "print(\"Max Sharpe Ratio:\")\n",
    "display(max_sharpe_ratio)\n",
    "\n",
    "print(\"Min Volatility:\")\n",
    "display(min_volatility)"
   ]
  },
  {
   "cell_type": "markdown",
   "metadata": {},
   "source": [
    "# Plotting:\n",
    "\n",
    "Making different portfolio weights is helpful, but visualizing the output from our simulation by a graph gives a much clearer view. We'll use matplotlib to make a scatter plot illustrating the relationship between the overall volatility of a portfolio and its expected returns. Ideally, we must see that as we take more in terms of risk, the risk-adjusted returns are better. Conversely, lower volatility should reflect to fairly lower returns."
   ]
  },
  {
   "cell_type": "code",
   "execution_count": 8,
   "metadata": {
    "tags": []
   },
   "outputs": [
    {
     "data": {
      "image/png": "[encoded data removed]",
      "text/plain": [
       "<Figure size 432x288 with 2 Axes>"
      ]
     },
     "metadata": {
      "needs_background": "light"
     },
     "output_type": "display_data"
    }
   ],
   "source": [
    "%matplotlib inline\n",
    "\n",
    "# Plot the data on a Scatter plot.\n",
    "plt.scatter(\n",
    "    y=simulations_df['Returns'],\n",
    "    x=simulations_df['Volatility'],\n",
    "    c=simulations_df['Sharpe Ratio'],\n",
    "    cmap='RdYlBu'\n",
    ")\n",
    "\n",
    "# Give the Plot some labels, and titles.\n",
    "plt.title('Portfolio Returns Vs. Risk')\n",
    "plt.colorbar(label='Sharpe Ratio')\n",
    "plt.xlabel('Standard Deviation')\n",
    "plt.ylabel('Returns')\n",
    "\n",
    "# A red star will represent the Max Sharpe Ratio.\n",
    "plt.scatter(\n",
    "    max_sharpe_ratio[1],\n",
    "    max_sharpe_ratio[0],\n",
    "    marker=(5, 1, 0),\n",
    "    color='r',\n",
    "    s=600\n",
    ")\n",
    "\n",
    "# A blue star will represent the Min Volatility.\n",
    "plt.scatter(\n",
    "    min_volatility[1],\n",
    "    min_volatility[0],\n",
    "    marker=(5, 1, 0),\n",
    "    color='b',\n",
    "    s=600\n",
    ")\n",
    "\n",
    "# Display the plot.\n",
    "plt.show()"
   ]
  },
  {
   "cell_type": "code",
   "execution_count": null,
   "metadata": {},
   "outputs": [],
   "source": []
  }
 ],
 "metadata": {
  "kernelspec": {
   "display_name": "Python 3 (ipykernel)",
   "language": "python",
   "name": "python3"
  },
  "language_info": {
   "codemirror_mode": {
    "name": "ipython",
    "version": 3
   },
   "file_extension": ".py",
   "mimetype": "text/x-python",
   "name": "python",
   "nbconvert_exporter": "python",
   "pygments_lexer": "ipython3",
   "version": "3.10.4"
  }
 },
 "nbformat": 4,
 "nbformat_minor": 2
}
